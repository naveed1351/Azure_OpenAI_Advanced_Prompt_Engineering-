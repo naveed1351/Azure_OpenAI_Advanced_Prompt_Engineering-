{
  "cells": [
    {
      "cell_type": "markdown",
      "metadata": {},
      "source": [
        "Uncomment below and install the libraries:"
      ]
    },
    {
      "cell_type": "code",
      "execution_count": null,
      "metadata": {},
      "outputs": [],
      "source": [
        "#pip install azure-ai-ml"
      ]
    },
    {
      "cell_type": "code",
      "execution_count": 1,
      "metadata": {
        "jupyter": {
          "outputs_hidden": false,
          "source_hidden": false
        },
        "nteract": {
          "transient": {
            "deleting": false
          }
        }
      },
      "outputs": [
        {
          "name": "stdout",
          "output_type": "stream",
          "text": [
            "Writing workspace.json\n"
          ]
        }
      ],
      "source": [
        "%%writefile workspace.json\n",
        "{\n",
        "\"subscription_id\" : \"XXXX\",\n",
        "\"resource_group\" : \"XXX\",\n",
        "\"workspace_name\" : \"XXXX\"\n",
        "}"
      ]
    },
    {
      "cell_type": "code",
      "execution_count": 2,
      "metadata": {},
      "outputs": [
        {
          "name": "stderr",
          "output_type": "stream",
          "text": [
            "Found the config file in: workspace.json\n"
          ]
        },
        {
          "name": "stdout",
          "output_type": "stream",
          "text": [
            "Workspace Name: XXXX\n",
            "Resource Group: XXX\n",
            "Subscription ID: XXXX\n"
          ]
        }
      ],
      "source": [
        "from azure.ai.ml import MLClient\n",
        "from azure.identity import DefaultAzureCredential\n",
        "\n",
        "# Authenticate and create MLClient from workspace config\n",
        "ml_client = MLClient.from_config(credential=DefaultAzureCredential(), path=\"workspace.json\")\n",
        "\n",
        "# Print client info\n",
        "print(f\"Workspace Name: {ml_client.workspace_name}\")\n",
        "print(f\"Resource Group: {ml_client.resource_group_name}\")\n",
        "print(f\"Subscription ID: {ml_client.subscription_id}\")\n"
      ]
    },
    {
      "cell_type": "code",
      "execution_count": null,
      "metadata": {
        "gather": {
          "logged": 1720048146557
        },
        "jupyter": {
          "outputs_hidden": false,
          "source_hidden": false
        },
        "nteract": {
          "transient": {
            "deleting": false
          }
        }
      },
      "outputs": [],
      "source": [
        "from azure.ai.ml import MLClient\n",
        "from azure.identity import DefaultAzureCredential\n",
        "from azureml.core import Workspace\n",
        "\n",
        "ml_client = MLClient.from_config(credential=DefaultAzureCredential(), path=\"workspace.json\")\n",
        "ws = Workspace(\n",
        "    subscription_id=ml_client.subscription_id,\n",
        "    resource_group=ml_client.resource_group_name,\n",
        "    workspace_name=ml_client.workspace_name,\n",
        ")\n",
        "print(ml_client)"
      ]
    },
    {
      "cell_type": "code",
      "execution_count": 2,
      "metadata": {
        "gather": {
          "logged": 1720048153699
        },
        "jupyter": {
          "outputs_hidden": false,
          "source_hidden": false
        },
        "nteract": {
          "transient": {
            "deleting": false
          }
        }
      },
      "outputs": [],
      "source": [
        "import uuid\n",
        "\n",
        "AOAI_endpoint = \"XXX\" \n",
        "key_value=\"XXX\"\n",
        "\n",
        "keyvault = ws.get_default_keyvault()\n",
        "keyvault.set_secret(name=\"aoai-endpoint\", value = AOAI_endpoint)\n",
        "keyvault.set_secret(name=\"key\",value=key_value)\n"
      ]
    },
    {
      "cell_type": "code",
      "execution_count": 3,
      "metadata": {
        "gather": {
          "logged": 1720048156901
        },
        "jupyter": {
          "outputs_hidden": false,
          "source_hidden": false
        },
        "nteract": {
          "transient": {
            "deleting": false
          }
        }
      },
      "outputs": [],
      "source": [
        "aoai_endpoint=keyvault.get_secret(name=\"aoai-endpoint\")\n",
        "aoai_key=keyvault.get_secret(name=\"key\")"
      ]
    },
    {
      "cell_type": "code",
      "execution_count": null,
      "metadata": {
        "gather": {
          "logged": 1720048184018
        },
        "jupyter": {
          "outputs_hidden": false,
          "source_hidden": false
        },
        "nteract": {
          "transient": {
            "deleting": false
          }
        }
      },
      "outputs": [
        {
          "name": "stdout",
          "output_type": "stream",
          "text": [
            "Yes, several other Azure AI services support the use of customer-managed keys (CMKs) for data encryption at rest, providing an additional layer of control and security for sensitive data. This feature allows customers to use their own keys for encrypting data, rather than relying solely on the keys managed by Microsoft. \n",
            "\n",
            "For instance, Azure Cognitive Services has made strides in allowing customer-managed keys for certain services to offer enhanced security and compliance capabilities. However, the availability of customer-managed keys varies by service and region, so it's important to consult the specific documentation for each Azure AI service to understand the options and configurations related to data encryption and compliance requirements.\n",
            "\n",
            "As of my last update, services like Azure Cognitive Search and Azure Blob Storage, which can be leveraged by different AI services for storing data, offer support for customer-managed keys. Since the landscape of Azure services evolves rapidly, with new features and compliance options being introduced regularly, it's advisable to check the latest Azure documentation or the Azure updates/release notes for the most current information on customer-managed key support across Azure AI services.\n"
          ]
        }
      ],
      "source": [
        "from openai import AzureOpenAI\n",
        "\n",
        "client = AzureOpenAI(\n",
        "  azure_endpoint = aoai_endpoint, \n",
        "  api_key=aoai_key,  \n",
        "  api_version=\"2025-01-01-preview\"\n",
        ")\n",
        "\n",
        "response = client.chat.completions.create(\n",
        "    model=\"gpt-4o\", # model = \"deployment_name\".\n",
        "    messages=[\n",
        "        {\"role\": \"system\", \"content\": \"You are a helpful assistant.\"},\n",
        "        {\"role\": \"user\", \"content\": \"Does Azure OpenAI support customer managed keys?\"},\n",
        "        {\"role\": \"assistant\", \"content\": \"Yes, customer managed keys are supported by Azure OpenAI.\"},\n",
        "        {\"role\": \"user\", \"content\": \"Do other Azure AI services support this too?\"}\n",
        "    ]\n",
        ")\n",
        "\n",
        "print(response.choices[0].message.content)"
      ]
    }
  ],
  "metadata": {
    "kernel_info": {
      "name": "python310-sdkv2"
    },
    "kernelspec": {
      "display_name": "base",
      "language": "python",
      "name": "python3"
    },
    "language_info": {
      "codemirror_mode": {
        "name": "ipython",
        "version": 3
      },
      "file_extension": ".py",
      "mimetype": "text/x-python",
      "name": "python",
      "nbconvert_exporter": "python",
      "pygments_lexer": "ipython3",
      "version": "3.10.10"
    },
    "microsoft": {
      "host": {
        "AzureML": {
          "notebookHasBeenCompleted": true
        }
      },
      "ms_spell_check": {
        "ms_spell_check_language": "en"
      }
    },
    "nteract": {
      "version": "nteract-front-end@1.0.0"
    }
  },
  "nbformat": 4,
  "nbformat_minor": 2
}
