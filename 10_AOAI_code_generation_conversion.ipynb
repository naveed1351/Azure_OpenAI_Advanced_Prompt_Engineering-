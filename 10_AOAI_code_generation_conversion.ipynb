{
  "cells": [
    {
      "cell_type": "markdown",
      "source": [
        "# Code Generation & Conversion\n",
        "\n",
        "GPT4 is expert in code translations."
      ],
      "metadata": {},
      "id": "278e7451"
    },
    {
      "cell_type": "code",
      "source": [
        "# import openai\n",
        "# from openai import AzureOpenAI\n",
        "# import os \n",
        "# from azure.identity import ManagedIdentityCredential\n",
        "\n",
        "# default_credential=ManagedIdentityCredential(client_id=\"XX\")\n",
        "# token=default_credential.get_token(\"https://cognitiveservices.azure.com/.default\")\n",
        "# Resource_endpoint=\"XXX\"\n",
        "\n",
        "# client = AzureOpenAI(\n",
        "#   azure_endpoint = Resource_endpoint, \n",
        "#   api_key=token.token,  \n",
        "#   api_version=\"2023-05-15\"\n",
        "# )"
      ],
      "outputs": [],
      "execution_count": 1,
      "metadata": {
        "jupyter": {
          "source_hidden": false,
          "outputs_hidden": false
        },
        "nteract": {
          "transient": {
            "deleting": false
          }
        },
        "gather": {
          "logged": 1700435109953
        }
      },
      "id": "08099996-ea09-432a-a733-0794294fa5ce"
    },
    {
      "cell_type": "code",
      "source": [
        "import os\n",
        "import openai\n",
        "from openai import AzureOpenAI\n",
        "from dotenv import load_dotenv\n",
        "\n",
        "# Set up Azure OpenAI\n",
        "load_dotenv(\"credentials.env\")\n",
        "\n",
        "openai.api_type = \"azure\"\n",
        "    \n",
        "client = AzureOpenAI(\n",
        "    api_key=os.getenv(\"AZURE_OPENAI_API_KEY\"),  \n",
        "    api_version=\"2024-02-01\",\n",
        "    azure_endpoint = os.getenv(\"AZURE_OPENAI_ENDPOINT\")\n",
        "    )"
      ],
      "outputs": [],
      "execution_count": 1,
      "metadata": {
        "jupyter": {
          "source_hidden": false,
          "outputs_hidden": false
        },
        "nteract": {
          "transient": {
            "deleting": false
          }
        },
        "gather": {
          "logged": 1724228753473
        }
      },
      "id": "5047efb3-e9d6-4818-8d97-0a941ea9fd4b"
    },
    {
      "cell_type": "code",
      "source": [
        "content= f\"\"\"You are a helpful assistant that converts SAS code into Python.\"\"\""
      ],
      "outputs": [],
      "execution_count": 2,
      "metadata": {
        "jupyter": {
          "source_hidden": false,
          "outputs_hidden": false
        },
        "nteract": {
          "transient": {
            "deleting": false
          }
        },
        "gather": {
          "logged": 1724228753571
        }
      },
      "id": "76760129-6bc2-4240-970a-b93d39e6f821"
    },
    {
      "cell_type": "code",
      "source": [
        "# This is the first user message that will be sent to the model. Feel free to update this.\n",
        "user_message = f\"\"\"data work.experience;\n",
        "input employee $ experience;\n",
        "datalines;\n",
        "Ahmet 10\n",
        "Fatma 8\n",
        "Ali 12\n",
        "Elif 7\n",
        "John 4\n",
        "Jade 15\n",
        ";\n",
        "run;\n",
        "\"\"\""
      ],
      "outputs": [],
      "execution_count": 3,
      "metadata": {
        "jupyter": {
          "source_hidden": false,
          "outputs_hidden": false
        },
        "nteract": {
          "transient": {
            "deleting": false
          }
        },
        "gather": {
          "logged": 1724228753656
        }
      },
      "id": "fc4a643e-2e73-4cf6-b344-0ba22d3e2474"
    },
    {
      "cell_type": "code",
      "source": [
        "# Instead of appending, writing messages in the SDK\n",
        "response = client.chat.completions.create(\n",
        "    model=\"gpt-4-0125-Preview\", # model = \"deployment_name\".\n",
        "    messages=[\n",
        "        {\"role\": \"system\", \"content\": content},\n",
        "        {\"role\": \"user\", \"content\": user_message}\n",
        "    ]\n",
        ")\n",
        "\n",
        "print(response.choices[0].message.content)"
      ],
      "outputs": [
        {
          "output_type": "stream",
          "name": "stdout",
          "text": "To convert the SAS code you've provided into Python, you can make use of the pandas library. This library is excellent for data manipulation and analysis, mimicking the functionality provided by the DATA step in SAS. First, ensure you have pandas installed in your Python environment. You can install it using pip if you don't have it already:\n\n```bash\npip install pandas\n```\n\nNow, let's convert the SAS code:\n\n```python\nimport pandas as pd\n\n# Data definition\ndata = {\n    'employee': ['Ahmet', 'Fatma', 'Ali', 'Elif', 'John', 'Jade'],\n    'experience': [10, 8, 12, 7, 4, 15]\n}\n\n# Creating a DataFrame\nexperience_df = pd.DataFrame(data)\n\n# Display the DataFrame\nprint(experience_df)\n```\n\nThis code snippet creates a `DataFrame`, a 2-dimensional labeled data structure with columns of potentially different types, mimicking the structure you're creating with your SAS code. The `print` statement at the end displays the content of the DataFrame, similar to how your SAS dataset `work.experience` would be if you were to view it in a SAS environment.\n"
        }
      ],
      "execution_count": 4,
      "metadata": {
        "jupyter": {
          "source_hidden": false,
          "outputs_hidden": false
        },
        "nteract": {
          "transient": {
            "deleting": false
          }
        },
        "gather": {
          "logged": 1724228761780
        }
      },
      "id": "41a0d943-3507-4276-9c56-9ece8e4da70d"
    }
  ],
  "metadata": {
    "kernelspec": {
      "name": "python310-sdkv2",
      "language": "python",
      "display_name": "Python 3.10 - SDK v2"
    },
    "language_info": {
      "name": "python",
      "version": "3.10.11",
      "mimetype": "text/x-python",
      "codemirror_mode": {
        "name": "ipython",
        "version": 3
      },
      "pygments_lexer": "ipython3",
      "nbconvert_exporter": "python",
      "file_extension": ".py"
    },
    "microsoft": {
      "ms_spell_check": {
        "ms_spell_check_language": "en"
      },
      "host": {
        "AzureML": {
          "notebookHasBeenCompleted": true
        }
      }
    },
    "kernel_info": {
      "name": "python310-sdkv2"
    },
    "nteract": {
      "version": "nteract-front-end@1.0.0"
    }
  },
  "nbformat": 4,
  "nbformat_minor": 5
}