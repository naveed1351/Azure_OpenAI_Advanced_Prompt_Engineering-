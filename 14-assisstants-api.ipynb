{
  "cells": [
    {
      "cell_type": "code",
      "source": [
        "import time\n",
        "import os\n",
        "from openai import AzureOpenAI\n",
        "from dotenv import load_dotenv\n",
        "\n",
        "# Set up Azure OpenAI\n",
        "load_dotenv(\"credentials.env\")\n",
        "deployment_name = \"gpt-4-0125-Preview\"\n",
        "\n",
        "# Create an OpenAI Azure client\n",
        "client = AzureOpenAI(\n",
        "    api_key=os.getenv(\"AZURE_OPENAI_API_KEY\"),#\"8b96d7ba6a31403089100421919c7962\",  #change to your API KEY Value\n",
        "    api_version=\"2024-02-15-preview\",\n",
        "    azure_endpoint =os.getenv(\"AZURE_OPENAI_ENDPOINT\") #change to your API ENDPOINT\n",
        "    )\n",
        "\n",
        "# Create an Asssitant with the code_interpreter tool\n",
        "assistant = client.beta.assistants.create(\n",
        "    name=\"Math Tutor\",\n",
        "    instructions=\"You are a personal math tutor. Write and run code to answer math questions.\",\n",
        "    tools=[{\"type\": \"code_interpreter\"}],\n",
        "    model=deployment_name,\n",
        ")\n",
        "\n",
        "# Create a Thread\n",
        "thread = client.beta.threads.create()\n",
        "\n",
        "# Create a Message\n",
        "message = client.beta.threads.messages.create(\n",
        "    thread_id=thread.id,\n",
        "    role=\"user\",\n",
        "    content=\"I need to solve the equation `3x + 11 = 14`. Can you help me?\",\n",
        ")\n",
        "\n",
        "# Create a Run\n",
        "run = client.beta.threads.runs.create(\n",
        "    thread_id=thread.id,\n",
        "    assistant_id=assistant.id,\n",
        "    instructions=\"Please address the user as Jane Doe. The user has a premium account.\",\n",
        ")\n",
        "\n",
        "# Check the status of a Run\n",
        "print(\"checking assistant status. \")\n",
        "while True:\n",
        "    # Retrieve a Run by Thread and Run id\n",
        "    run = client.beta.threads.runs.retrieve(thread_id=thread.id, run_id=run.id)\n",
        "\n",
        "    \n",
        "    if run.status == \"completed\":\n",
        "        # Get the messages for a thread\n",
        "        messages = client.beta.threads.messages.list(thread_id=thread.id)\n",
        "        # Print the messages\n",
        "        print(\"messages: \")\n",
        "        for message in messages:\n",
        "            assert message.content[0].type == \"text\"\n",
        "            print({\"role\": message.role, \"message\": message.content[0].text.value})\n",
        "        # Dispose of the assistant\n",
        "        client.beta.assistants.delete(assistant.id)\n",
        "        # Dispose of the thread\n",
        "        client.beta.threads.delete(thread.id)\n",
        "        \n",
        "        break\n",
        "    elif run.status == \"requires_action\":\n",
        "        # handle function calling and continue with the execution\n",
        "        pass\n",
        "    elif run.status == \"expired\" or run.status == \"failed\" or run.status == \"cancelled\":\n",
        "        # run failed, expired, or was cancelled\n",
        "        break    \n",
        "    else:\n",
        "        print(\"in progress...\")\n",
        "        time.sleep(5)"
      ],
      "outputs": [
        {
          "output_type": "stream",
          "name": "stdout",
          "text": "checking assistant status. \nin progress...\nin progress...\nmessages: \n{'role': 'assistant', 'message': 'The solution to the equation \\\\(3x + 11 = 14\\\\) is \\\\(x = 1\\\\).'}\n{'role': 'assistant', 'message': \"Sure, Jane Doe. To solve the equation \\\\(3x + 11 = 14\\\\), we need to isolate \\\\(x\\\\). Here's how we can do it:\\n\\n1. Subtract 11 from both sides of the equation to get rid of the constant term on the side with \\\\(x\\\\).\\n2. After removing the constant term, you will have the equation in the form \\\\(3x = \\\\text{something}\\\\).\\n3. Divide both sides by 3 to solve for \\\\(x\\\\).\\n\\nLet's calculate the exact value of \\\\(x\\\\).\"}\n{'role': 'user', 'message': 'I need to solve the equation `3x + 11 = 14`. Can you help me?'}\n"
        }
      ],
      "execution_count": 1,
      "metadata": {
        "gather": {
          "logged": 1724229539579
        }
      }
    },
    {
      "cell_type": "code",
      "source": [],
      "outputs": [],
      "execution_count": null,
      "metadata": {
        "jupyter": {
          "source_hidden": false,
          "outputs_hidden": false
        },
        "nteract": {
          "transient": {
            "deleting": false
          }
        }
      }
    }
  ],
  "metadata": {
    "kernelspec": {
      "name": "python310-sdkv2",
      "language": "python",
      "display_name": "Python 3.10 - SDK v2"
    },
    "language_info": {
      "name": "python",
      "version": "3.10.11",
      "mimetype": "text/x-python",
      "codemirror_mode": {
        "name": "ipython",
        "version": 3
      },
      "pygments_lexer": "ipython3",
      "nbconvert_exporter": "python",
      "file_extension": ".py"
    },
    "microsoft": {
      "ms_spell_check": {
        "ms_spell_check_language": "en"
      },
      "host": {
        "AzureML": {
          "notebookHasBeenCompleted": true
        }
      }
    },
    "kernel_info": {
      "name": "python310-sdkv2"
    },
    "nteract": {
      "version": "nteract-front-end@1.0.0"
    }
  },
  "nbformat": 4,
  "nbformat_minor": 2
}