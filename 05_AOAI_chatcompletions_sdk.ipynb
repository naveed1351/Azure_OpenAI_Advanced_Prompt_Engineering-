{
  "cells": [
    {
      "cell_type": "markdown",
      "id": "278e7451",
      "metadata": {},
      "source": [
        "# Chat Completions\n",
        "\n",
        "Chat models take a series of messages as input, and return a model-generated message as output.\n",
        "The main input is the messages parameter. **Messages must be an array of message objects, where each object has a role (either \"system\", \"user\") and content** (the content of the message). "
      ]
    },
    {
      "cell_type": "code",
      "execution_count": null,
      "id": "fb97123e",
      "metadata": {},
      "outputs": [],
      "source": [
        "# if needed, install and/or upgrade to the latest version of the OpenAI Python library\n",
        "#%pip install --upgrade openai"
      ]
    },
    {
      "cell_type": "code",
      "execution_count": 3,
      "id": "ccbb9a99",
      "metadata": {
        "gather": {
          "logged": 1700434959897
        }
      },
      "outputs": [],
      "source": [
        "# import openai\n",
        "# from openai import AzureOpenAI\n",
        "# import os \n",
        "# from azure.identity import ManagedIdentityCredential\n",
        "\n",
        "# default_credential=ManagedIdentityCredential(client_id=\"XXX\")\n",
        "# token=default_credential.get_token(\"https://cognitiveservices.azure.com/.default\")\n",
        "# Resource_endpoint=\"XXX\"\n",
        "\n",
        "# client = AzureOpenAI(\n",
        "#   azure_endpoint = Resource_endpoint, \n",
        "#   api_key=token.token,  \n",
        "#   api_version=\"2023-05-15\"\n",
        "# )"
      ]
    },
    {
      "cell_type": "code",
      "execution_count": 1,
      "id": "312226be",
      "metadata": {},
      "outputs": [],
      "source": [
        "import os\n",
        "import openai\n",
        "from openai import AzureOpenAI\n",
        "from dotenv import load_dotenv\n",
        "\n",
        "# Set up Azure OpenAI\n",
        "load_dotenv(\"credentials.env\")\n",
        "\n",
        "openai.api_type = \"azure\"\n",
        "    \n",
        "client = AzureOpenAI(\n",
        "    api_key=os.getenv(\"AZURE_OPENAI_API_KEY\"),  \n",
        "    api_version=\"2025-01-01-preview\", #latest GA API version: https://learn.microsoft.com/en-us/azure/ai-services/openai/api-version-deprecation\n",
        "    azure_endpoint = os.getenv(\"AZURE_OPENAI_ENDPOINT\")\n",
        "    )"
      ]
    },
    {
      "cell_type": "code",
      "execution_count": 2,
      "id": "98bb0b84-8397-4e0c-b52e-2b45760bda80",
      "metadata": {
        "gather": {
          "logged": 1724165729156
        },
        "jupyter": {
          "outputs_hidden": false,
          "source_hidden": false
        },
        "nteract": {
          "transient": {
            "deleting": false
          }
        }
      },
      "outputs": [],
      "source": [
        "messages=[\n",
        "        {\"role\": \"system\", \"content\": \"You are a helpful assistant.\"},\n",
        "        {\"role\": \"user\", \"content\": \"Can you write a welcome page for Microsoft website ?\"}]"
      ]
    },
    {
      "cell_type": "code",
      "execution_count": 3,
      "id": "0e00e3f2-42ba-4090-957c-b2781f62cc1b",
      "metadata": {
        "gather": {
          "logged": 1724165752934
        },
        "jupyter": {
          "outputs_hidden": false,
          "source_hidden": false
        },
        "nteract": {
          "transient": {
            "deleting": false
          }
        }
      },
      "outputs": [
        {
          "name": "stdout",
          "output_type": "stream",
          "text": [
            "Certainly! Here's a professional and user-friendly draft for a welcome page for the Microsoft website:\n",
            "\n",
            "---\n",
            "\n",
            "## Welcome to Microsoft\n",
            "\n",
            "At Microsoft, our mission is simple: **Empower every person and every organization on the planet to achieve more**. Whether you’re a student, professional, developer, gamer, or creator, we’re here to deliver innovative solutions that help you succeed.\n",
            "\n",
            "### Explore Your Digital World\n",
            "\n",
            "Discover tools and technologies designed to bring your ideas to life and keep you connected:\n",
            "\n",
            "- **Windows**: Experience the latest innovations in your operating system, tailored to optimize productivity and creativity.\n",
            "- **Microsoft 365**: Enabling collaboration and work like never before, with apps like Word, Excel, PowerPoint, Teams, and more.\n",
            "- **Azure**: Dive into the world of cloud computing with scalable, secure, and cutting-edge services.\n",
            "- **Xbox**: Immerse yourself in gaming and entertainment experiences that bring fun, connection, and community to your fingertips.\n",
            "- **Surface**: Explore the perfect blend of performance and design with devices built for work and play.\n",
            "\n",
            "### Driven by Innovation\n",
            "\n",
            "At Microsoft, we’re passionate about harnessing the power of technology to make a difference. From advancements in artificial intelligence to groundbreaking accessibility solutions, we’re redefining what’s possible. Together with our partners, we create technology that shapes the future—responsibly, inclusively, and sustainably.\n",
            "\n",
            "### Engage With Us\n",
            "\n",
            "Ready to dive deeper? Whether you’re looking to enhance your workflow, manage your business, or stay up-to-date with the latest tech trends, we’re here to help. Explore our site to connect with products, resources, and support tailored to you.\n",
            "\n",
            "Start your journey today—because when we empower you, there’s no limit to what you can achieve. \n",
            "\n",
            "Welcome to Microsoft. Welcome to **your potential, amplified**.\n",
            "\n",
            "[Learn More](#) | [Shop Now](#) | [Get Support](#)\n",
            "\n",
            "---\n",
            "\n",
            "Feel free to modify this to align with any specific updates, offerings, or branding emphasis Microsoft may need!\n"
          ]
        }
      ],
      "source": [
        "response = client.chat.completions.create(\n",
        "    model=\"gpt-4o\", # model = \"deployment_name\".\n",
        "    messages=messages\n",
        ")\n",
        "print(response.choices[0].message.content)"
      ]
    },
    {
      "cell_type": "code",
      "execution_count": 4,
      "id": "29b695d2-118d-45b0-b7ed-3ff91dde9684",
      "metadata": {
        "gather": {
          "logged": 1724165769116
        },
        "jupyter": {
          "outputs_hidden": false,
          "source_hidden": false
        },
        "nteract": {
          "transient": {
            "deleting": false
          }
        }
      },
      "outputs": [
        {
          "data": {
            "text/plain": [
              "ChatCompletion(id='chatcmpl-BZcyxrVIqfgbHCuTzaKLF9iFDClUE', choices=[Choice(finish_reason='stop', index=0, logprobs=None, message=ChatCompletionMessage(content=\"Certainly! Here's a professional and user-friendly draft for a welcome page for the Microsoft website:\\n\\n---\\n\\n## Welcome to Microsoft\\n\\nAt Microsoft, our mission is simple: **Empower every person and every organization on the planet to achieve more**. Whether you’re a student, professional, developer, gamer, or creator, we’re here to deliver innovative solutions that help you succeed.\\n\\n### Explore Your Digital World\\n\\nDiscover tools and technologies designed to bring your ideas to life and keep you connected:\\n\\n- **Windows**: Experience the latest innovations in your operating system, tailored to optimize productivity and creativity.\\n- **Microsoft 365**: Enabling collaboration and work like never before, with apps like Word, Excel, PowerPoint, Teams, and more.\\n- **Azure**: Dive into the world of cloud computing with scalable, secure, and cutting-edge services.\\n- **Xbox**: Immerse yourself in gaming and entertainment experiences that bring fun, connection, and community to your fingertips.\\n- **Surface**: Explore the perfect blend of performance and design with devices built for work and play.\\n\\n### Driven by Innovation\\n\\nAt Microsoft, we’re passionate about harnessing the power of technology to make a difference. From advancements in artificial intelligence to groundbreaking accessibility solutions, we’re redefining what’s possible. Together with our partners, we create technology that shapes the future—responsibly, inclusively, and sustainably.\\n\\n### Engage With Us\\n\\nReady to dive deeper? Whether you’re looking to enhance your workflow, manage your business, or stay up-to-date with the latest tech trends, we’re here to help. Explore our site to connect with products, resources, and support tailored to you.\\n\\nStart your journey today—because when we empower you, there’s no limit to what you can achieve. \\n\\nWelcome to Microsoft. Welcome to **your potential, amplified**.\\n\\n[Learn More](#) | [Shop Now](#) | [Get Support](#)\\n\\n---\\n\\nFeel free to modify this to align with any specific updates, offerings, or branding emphasis Microsoft may need!\", refusal=None, role='assistant', annotations=[], audio=None, function_call=None, tool_calls=None), content_filter_results={'hate': {'filtered': False, 'severity': 'safe'}, 'protected_material_code': {'filtered': False, 'detected': False}, 'protected_material_text': {'filtered': False, 'detected': False}, 'self_harm': {'filtered': False, 'severity': 'safe'}, 'sexual': {'filtered': False, 'severity': 'safe'}, 'violence': {'filtered': False, 'severity': 'safe'}})], created=1747831027, model='gpt-4o-2024-11-20', object='chat.completion', service_tier=None, system_fingerprint='fp_ee1d74bde0', usage=CompletionUsage(completion_tokens=414, prompt_tokens=27, total_tokens=441, completion_tokens_details=CompletionTokensDetails(accepted_prediction_tokens=0, audio_tokens=0, reasoning_tokens=0, rejected_prediction_tokens=0), prompt_tokens_details=PromptTokensDetails(audio_tokens=0, cached_tokens=0)), prompt_filter_results=[{'prompt_index': 0, 'content_filter_results': {'hate': {'filtered': False, 'severity': 'safe'}, 'jailbreak': {'filtered': False, 'detected': False}, 'self_harm': {'filtered': False, 'severity': 'safe'}, 'sexual': {'filtered': False, 'severity': 'safe'}, 'violence': {'filtered': False, 'severity': 'safe'}}}])"
            ]
          },
          "execution_count": 4,
          "metadata": {},
          "output_type": "execute_result"
        }
      ],
      "source": [
        "response"
      ]
    },
    {
      "cell_type": "code",
      "execution_count": 5,
      "id": "7e67e4ce-f345-4976-bb1c-894581eddc31",
      "metadata": {
        "gather": {
          "logged": 1724165772947
        },
        "jupyter": {
          "outputs_hidden": false,
          "source_hidden": false
        },
        "nteract": {
          "transient": {
            "deleting": false
          }
        }
      },
      "outputs": [],
      "source": [
        "messages.append({\"role\": \"system\", \"content\": response.choices[0].message.content})"
      ]
    },
    {
      "cell_type": "code",
      "execution_count": 6,
      "id": "0bc62099-a0bd-4bfb-8a0c-3180d924e25e",
      "metadata": {
        "gather": {
          "logged": 1724165774048
        },
        "jupyter": {
          "outputs_hidden": false,
          "source_hidden": false
        },
        "nteract": {
          "transient": {
            "deleting": false
          }
        }
      },
      "outputs": [],
      "source": [
        "messages.append({\"role\": \"user\", \"content\": \"Can you summarize our conversation?\"})"
      ]
    },
    {
      "cell_type": "code",
      "execution_count": 7,
      "id": "d9ad7a3a-b65b-4919-b21a-bf5ad2f8e9c4",
      "metadata": {
        "gather": {
          "logged": 1724165777979
        },
        "jupyter": {
          "outputs_hidden": false,
          "source_hidden": false
        },
        "nteract": {
          "transient": {
            "deleting": false
          }
        }
      },
      "outputs": [
        {
          "name": "stdout",
          "output_type": "stream",
          "text": [
            "[{'role': 'system', 'content': 'You are a helpful assistant.'}, {'role': 'user', 'content': 'Can you write a welcome page for Microsoft website ?'}, {'role': 'system', 'content': \"Certainly! Here's a professional and user-friendly draft for a welcome page for the Microsoft website:\\n\\n---\\n\\n## Welcome to Microsoft\\n\\nAt Microsoft, our mission is simple: **Empower every person and every organization on the planet to achieve more**. Whether you’re a student, professional, developer, gamer, or creator, we’re here to deliver innovative solutions that help you succeed.\\n\\n### Explore Your Digital World\\n\\nDiscover tools and technologies designed to bring your ideas to life and keep you connected:\\n\\n- **Windows**: Experience the latest innovations in your operating system, tailored to optimize productivity and creativity.\\n- **Microsoft 365**: Enabling collaboration and work like never before, with apps like Word, Excel, PowerPoint, Teams, and more.\\n- **Azure**: Dive into the world of cloud computing with scalable, secure, and cutting-edge services.\\n- **Xbox**: Immerse yourself in gaming and entertainment experiences that bring fun, connection, and community to your fingertips.\\n- **Surface**: Explore the perfect blend of performance and design with devices built for work and play.\\n\\n### Driven by Innovation\\n\\nAt Microsoft, we’re passionate about harnessing the power of technology to make a difference. From advancements in artificial intelligence to groundbreaking accessibility solutions, we’re redefining what’s possible. Together with our partners, we create technology that shapes the future—responsibly, inclusively, and sustainably.\\n\\n### Engage With Us\\n\\nReady to dive deeper? Whether you’re looking to enhance your workflow, manage your business, or stay up-to-date with the latest tech trends, we’re here to help. Explore our site to connect with products, resources, and support tailored to you.\\n\\nStart your journey today—because when we empower you, there’s no limit to what you can achieve. \\n\\nWelcome to Microsoft. Welcome to **your potential, amplified**.\\n\\n[Learn More](#) | [Shop Now](#) | [Get Support](#)\\n\\n---\\n\\nFeel free to modify this to align with any specific updates, offerings, or branding emphasis Microsoft may need!\"}, {'role': 'user', 'content': 'Can you summarize our conversation?'}]\n"
          ]
        }
      ],
      "source": [
        "print(messages)"
      ]
    },
    {
      "cell_type": "code",
      "execution_count": 8,
      "id": "4bfe09da-ed31-4824-8a64-69b295bf4737",
      "metadata": {
        "gather": {
          "logged": 1724165797887
        },
        "jupyter": {
          "outputs_hidden": false,
          "source_hidden": false
        },
        "nteract": {
          "transient": {
            "deleting": false
          }
        }
      },
      "outputs": [
        {
          "name": "stdout",
          "output_type": "stream",
          "text": [
            "Certainly! You asked me to write a welcome page for the Microsoft website, and I provided a professional and user-friendly draft that highlights Microsoft's mission, products, innovations, and engagement opportunities. Let me know if you'd like further adjustments or need help with anything else! 😊\n"
          ]
        }
      ],
      "source": [
        "response = client.chat.completions.create(\n",
        "    model=\"gpt-4o\", # model = \"deployment_name\".\n",
        "    messages=messages\n",
        ")\n",
        "print(response.choices[0].message.content)"
      ]
    },
    {
      "cell_type": "code",
      "execution_count": 9,
      "id": "ead41f53-999c-4a67-aa2b-51c3377688d8",
      "metadata": {
        "gather": {
          "logged": 1724165873905
        },
        "jupyter": {
          "outputs_hidden": false,
          "source_hidden": false
        },
        "nteract": {
          "transient": {
            "deleting": false
          }
        }
      },
      "outputs": [
        {
          "name": "stdout",
          "output_type": "stream",
          "text": [
            "Certainly! You asked me to write a welcome page for the Microsoft website, and I provided a friendly introduction emphasizing Microsoft's mission to empower individuals and organizations. Then, you asked me to summarize our conversation, which I'm doing now. Let me know if you need anything further!\n"
          ]
        }
      ],
      "source": [
        "# Instead of appending, writing messages in the SDK\n",
        "response = client.chat.completions.create(\n",
        "    model=\"gpt-4o\", # model = \"deployment_name\".\n",
        "    messages=[\n",
        "        {\"role\": \"system\", \"content\": \"You are a helpful assistant.\"},\n",
        "        {\"role\": \"user\", \"content\": \"Can you write a welcome page for Microsoft website ?\"},\n",
        "        {\"role\": \"system\", \"content\": \"Welcome to Microsoft, where we help every person and organization on the planet to achieve more.\"},\n",
        "        {\"role\": \"user\", \"content\": \"Can you summarize our conversation?\"},\n",
        "    ]\n",
        ")\n",
        "\n",
        "print(response.choices[0].message.content)"
      ]
    },
    {
      "cell_type": "markdown",
      "id": "5418cb59-baf5-4d72-a92d-6eda425be3c1",
      "metadata": {
        "nteract": {
          "transient": {
            "deleting": false
          }
        }
      },
      "source": [
        "# PII Redaction"
      ]
    },
    {
      "cell_type": "code",
      "execution_count": 10,
      "id": "7d0f945f-8412-4825-91a1-6927e292dbd7",
      "metadata": {
        "gather": {
          "logged": 1724165898942
        },
        "jupyter": {
          "outputs_hidden": false,
          "source_hidden": false
        },
        "nteract": {
          "transient": {
            "deleting": false
          }
        }
      },
      "outputs": [],
      "source": [
        "content= f\"\"\"You are a helpful assistant that answers the given question. You must present both response and original question in your output after redacting any PII data such as name, address, date of birth, medical records, and financial records.\n",
        " \n",
        "Format the output in JSON by using \"Original Question\" and \"Response\" as a key. The original question should be the user input verbatim.\"\"\""
      ]
    },
    {
      "cell_type": "code",
      "execution_count": 12,
      "id": "40ca2132-a3a7-4e7a-9253-c0caa50ba76b",
      "metadata": {
        "gather": {
          "logged": 1724165904890
        },
        "jupyter": {
          "outputs_hidden": false,
          "source_hidden": false
        },
        "nteract": {
          "transient": {
            "deleting": false
          }
        }
      },
      "outputs": [
        {
          "name": "stdout",
          "output_type": "stream",
          "text": [
            "```json\n",
            "{\n",
            "  \"Original Question\": \"Hi, I am Naveed, based in London. Can you write a poem for me?\",\n",
            "  \"Response\": \"Certainly! Here's a poem for you:\\n\\n**A Stroll Through London Skies**\\n\\nOh Naveed, in London’s grand embrace,  \\nWhere centuries whisper through every space,  \\nThe Thames flows steady, a timeless guide,  \\nThrough tales of glory and bridges wide.  \\n  \\nBeneath gray clouds, where dreams align,  \\nThe city's heart beats, strong, divine.  \\nFrom Big Ben’s chime to Tower’s lore,  \\nEach step you take reveals much more.  \\n  \\nIn markets quaint and cobbled streets,  \\nLife's rhythm hums, and history meets.  \\nWhere voices meld, diverse, profound,  \\nA worldly chorus, a vibrant sound.  \\n  \\nOh, Naveed, as London calls your name,  \\nHer endless wonders fuel the flame.  \\nMay your journey here be bold and grand,  \\nIn this timeless realm, this royal strand.\"  \n",
            "}\n",
            "```\n"
          ]
        }
      ],
      "source": [
        "\n",
        "response = client.chat.completions.create(\n",
        "    model=\"gpt-4o\", # model = \"deployment_name\".\n",
        "    messages=[\n",
        "        {\"role\": \"system\", \"content\": content},\n",
        "        {\"role\": \"user\", \"content\": \"Hi, I am Naveed, based in London. Can you write a poem for me?\"}\n",
        "    ]\n",
        ")\n",
        "\n",
        "print(response.choices[0].message.content)"
      ]
    },
    {
      "cell_type": "markdown",
      "id": "ccbd11bd-7f8e-4c6a-9fd0-708b645d249d",
      "metadata": {
        "nteract": {
          "transient": {
            "deleting": false
          }
        }
      },
      "source": [
        "###   Reproducable Outputs with Seed Parameter**"
      ]
    },
    {
      "cell_type": "code",
      "execution_count": 13,
      "id": "c9b5d45d-0de2-44f8-a903-ced5b0173a02",
      "metadata": {
        "gather": {
          "logged": 1724165934876
        },
        "jupyter": {
          "outputs_hidden": false,
          "source_hidden": false
        },
        "nteract": {
          "transient": {
            "deleting": false
          }
        }
      },
      "outputs": [
        {
          "name": "stdout",
          "output_type": "stream",
          "text": [
            "Story Version 1\n",
            "---\n",
            "Certainly! Let me tell you a story about the beginning of the universe, inspired by both science and imagination:\n",
            "\n",
            "---\n",
            "\n",
            "**The Cosmic Seed**\n",
            "\n",
            "Long ago, before time had a name and space had a shape, there was nothing. No stars, no\n",
            "---\n",
            "\n",
            "Story Version 2\n",
            "---\n",
            "Certainly! Let me tell you a story about the beginning of the universe, inspired by both science and imagination:\n",
            "\n",
            "---\n",
            "\n",
            "**The Cosmic Seed**\n",
            "\n",
            "Long ago, before time had a name and space had a shape, there was nothing. No stars, no\n",
            "---\n",
            "\n",
            "Story Version 3\n",
            "---\n",
            "Certainly! Let me tell you a story about the beginning of the universe, inspired by both science and imagination:\n",
            "\n",
            "---\n",
            "\n",
            "**The Cosmic Seed**\n",
            "\n",
            "Long before time had a name, before stars burned bright or planets danced in the void, there was only silence\n",
            "---\n",
            "\n"
          ]
        }
      ],
      "source": [
        "for i in range(3):\n",
        "  print(f'Story Version {i + 1}\\n---')\n",
        "    \n",
        "  response = client.chat.completions.create(\n",
        "    model=\"gpt-4o\", # Model = should match the deployment name you chose for your 1106-preview model deployment\n",
        "    seed=42,\n",
        "    temperature=0.5,\n",
        "    max_tokens =50, \n",
        "    messages=[\n",
        "      {\"role\": \"system\", \"content\": \"You are a helpful assistant.\"},\n",
        "      {\"role\": \"user\", \"content\": \"Tell me a story about how the universe began?\"}\n",
        "    ]\n",
        "  )\n",
        "  \n",
        "  print(response.choices[0].message.content)\n",
        "  print(\"---\\n\")\n"
      ]
    },
    {
      "cell_type": "code",
      "execution_count": null,
      "id": "3dfa224c-c70e-4c9d-a8cf-451bb5410a9f",
      "metadata": {
        "jupyter": {
          "outputs_hidden": false,
          "source_hidden": false
        },
        "nteract": {
          "transient": {
            "deleting": false
          }
        }
      },
      "outputs": [],
      "source": []
    }
  ],
  "metadata": {
    "kernel_info": {
      "name": "python310-sdkv2"
    },
    "kernelspec": {
      "display_name": "base",
      "language": "python",
      "name": "python3"
    },
    "language_info": {
      "codemirror_mode": {
        "name": "ipython",
        "version": 3
      },
      "file_extension": ".py",
      "mimetype": "text/x-python",
      "name": "python",
      "nbconvert_exporter": "python",
      "pygments_lexer": "ipython3",
      "version": "3.10.10"
    },
    "microsoft": {
      "host": {
        "AzureML": {
          "notebookHasBeenCompleted": true
        }
      },
      "ms_spell_check": {
        "ms_spell_check_language": "en"
      }
    },
    "nteract": {
      "version": "nteract-front-end@1.0.0"
    }
  },
  "nbformat": 4,
  "nbformat_minor": 5
}
