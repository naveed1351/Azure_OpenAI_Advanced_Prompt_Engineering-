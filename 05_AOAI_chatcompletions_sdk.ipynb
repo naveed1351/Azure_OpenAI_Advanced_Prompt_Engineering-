{
  "cells": [
    {
      "cell_type": "markdown",
      "id": "278e7451",
      "metadata": {},
      "source": [
        "# Chat Completions\n",
        "\n",
        "Chat models take a series of messages as input, and return a model-generated message as output.\n",
        "The main input is the messages parameter. **Messages must be an array of message objects, where each object has a role (either \"system\", \"user\") and content** (the content of the message). "
      ]
    },
    {
      "cell_type": "code",
      "execution_count": null,
      "id": "fb97123e",
      "metadata": {},
      "outputs": [],
      "source": [
        "# if needed, install and/or upgrade to the latest version of the OpenAI Python library\n",
        "#%pip install --upgrade openai"
      ]
    },
    {
      "cell_type": "markdown",
      "id": "9d516e03",
      "metadata": {},
      "source": [
        "Note: Below is just for managed identity:"
      ]
    },
    {
      "cell_type": "code",
      "execution_count": 3,
      "id": "ccbb9a99",
      "metadata": {
        "gather": {
          "logged": 1700434959897
        }
      },
      "outputs": [],
      "source": [
        "# import openai\n",
        "# from openai import AzureOpenAI\n",
        "# import os \n",
        "# from azure.identity import ManagedIdentityCredential\n",
        "\n",
        "# default_credential=ManagedIdentityCredential(client_id=\"XXX\")\n",
        "# token=default_credential.get_token(\"https://cognitiveservices.azure.com/.default\")\n",
        "# Resource_endpoint=\"XXX\"\n",
        "\n",
        "# client = AzureOpenAI(\n",
        "#   azure_endpoint = Resource_endpoint, \n",
        "#   api_key=token.token,  \n",
        "#   api_version=\"2023-05-15\"\n",
        "# )"
      ]
    },
    {
      "cell_type": "code",
      "execution_count": 1,
      "id": "312226be",
      "metadata": {},
      "outputs": [],
      "source": [
        "import os\n",
        "import openai\n",
        "from openai import AzureOpenAI\n",
        "from dotenv import load_dotenv\n",
        "\n",
        "# Set up Azure OpenAI\n",
        "load_dotenv(\"credentials.env\")\n",
        "\n",
        "openai.api_type = \"azure\"\n",
        "    \n",
        "client = AzureOpenAI(\n",
        "    api_key=os.getenv(\"AZURE_OPENAI_API_KEY\"),  \n",
        "    api_version=\"2025-01-01-preview\", #latest GA API version: https://learn.microsoft.com/en-us/azure/ai-services/openai/api-version-deprecation\n",
        "    azure_endpoint = os.getenv(\"AZURE_OPENAI_ENDPOINT\")\n",
        "    )"
      ]
    },
    {
      "cell_type": "code",
      "execution_count": 2,
      "id": "98bb0b84-8397-4e0c-b52e-2b45760bda80",
      "metadata": {
        "gather": {
          "logged": 1724165729156
        },
        "jupyter": {
          "outputs_hidden": false,
          "source_hidden": false
        },
        "nteract": {
          "transient": {
            "deleting": false
          }
        }
      },
      "outputs": [],
      "source": [
        "messages=[\n",
        "        {\"role\": \"system\", \"content\": \"You are a helpful assistant.\"},\n",
        "        {\"role\": \"user\", \"content\": \"Can you write a welcome page for Microsoft website ?\"}]"
      ]
    },
    {
      "cell_type": "code",
      "execution_count": null,
      "id": "0e00e3f2-42ba-4090-957c-b2781f62cc1b",
      "metadata": {
        "gather": {
          "logged": 1724165752934
        },
        "jupyter": {
          "outputs_hidden": false,
          "source_hidden": false
        },
        "nteract": {
          "transient": {
            "deleting": false
          }
        }
      },
      "outputs": [],
      "source": [
        "response = client.chat.completions.create(\n",
        "    model=\"gpt-4o\", # model = \"deployment_name\".\n",
        "    messages=messages\n",
        ")\n",
        "print(response.choices[0].message.content)"
      ]
    },
    {
      "cell_type": "code",
      "execution_count": null,
      "id": "29b695d2-118d-45b0-b7ed-3ff91dde9684",
      "metadata": {
        "gather": {
          "logged": 1724165769116
        },
        "jupyter": {
          "outputs_hidden": false,
          "source_hidden": false
        },
        "nteract": {
          "transient": {
            "deleting": false
          }
        }
      },
      "outputs": [],
      "source": [
        "response"
      ]
    },
    {
      "cell_type": "code",
      "execution_count": 5,
      "id": "7e67e4ce-f345-4976-bb1c-894581eddc31",
      "metadata": {
        "gather": {
          "logged": 1724165772947
        },
        "jupyter": {
          "outputs_hidden": false,
          "source_hidden": false
        },
        "nteract": {
          "transient": {
            "deleting": false
          }
        }
      },
      "outputs": [],
      "source": [
        "messages.append({\"role\": \"system\", \"content\": response.choices[0].message.content})"
      ]
    },
    {
      "cell_type": "code",
      "execution_count": 6,
      "id": "0bc62099-a0bd-4bfb-8a0c-3180d924e25e",
      "metadata": {
        "gather": {
          "logged": 1724165774048
        },
        "jupyter": {
          "outputs_hidden": false,
          "source_hidden": false
        },
        "nteract": {
          "transient": {
            "deleting": false
          }
        }
      },
      "outputs": [],
      "source": [
        "messages.append({\"role\": \"user\", \"content\": \"Can you summarize our conversation?\"})"
      ]
    },
    {
      "cell_type": "code",
      "execution_count": null,
      "id": "d9ad7a3a-b65b-4919-b21a-bf5ad2f8e9c4",
      "metadata": {
        "gather": {
          "logged": 1724165777979
        },
        "jupyter": {
          "outputs_hidden": false,
          "source_hidden": false
        },
        "nteract": {
          "transient": {
            "deleting": false
          }
        }
      },
      "outputs": [],
      "source": [
        "print(messages)"
      ]
    },
    {
      "cell_type": "code",
      "execution_count": null,
      "id": "4bfe09da-ed31-4824-8a64-69b295bf4737",
      "metadata": {
        "gather": {
          "logged": 1724165797887
        },
        "jupyter": {
          "outputs_hidden": false,
          "source_hidden": false
        },
        "nteract": {
          "transient": {
            "deleting": false
          }
        }
      },
      "outputs": [],
      "source": [
        "response = client.chat.completions.create(\n",
        "    model=\"gpt-4o\", # model = \"deployment_name\".\n",
        "    messages=messages\n",
        ")\n",
        "print(response.choices[0].message.content)"
      ]
    },
    {
      "cell_type": "code",
      "execution_count": null,
      "id": "ead41f53-999c-4a67-aa2b-51c3377688d8",
      "metadata": {
        "gather": {
          "logged": 1724165873905
        },
        "jupyter": {
          "outputs_hidden": false,
          "source_hidden": false
        },
        "nteract": {
          "transient": {
            "deleting": false
          }
        }
      },
      "outputs": [],
      "source": [
        "# Instead of appending, writing messages in the SDK\n",
        "response = client.chat.completions.create(\n",
        "    model=\"gpt-4o\", # model = \"deployment_name\".\n",
        "    messages=[\n",
        "        {\"role\": \"system\", \"content\": \"You are a helpful assistant.\"},\n",
        "        {\"role\": \"user\", \"content\": \"Can you write a welcome page for Microsoft website ?\"},\n",
        "        {\"role\": \"system\", \"content\": \"Welcome to Microsoft, where we help every person and organization on the planet to achieve more.\"},\n",
        "        {\"role\": \"user\", \"content\": \"Can you summarize our conversation?\"},\n",
        "    ]\n",
        ")\n",
        "\n",
        "print(response.choices[0].message.content)"
      ]
    },
    {
      "cell_type": "markdown",
      "id": "5418cb59-baf5-4d72-a92d-6eda425be3c1",
      "metadata": {
        "nteract": {
          "transient": {
            "deleting": false
          }
        }
      },
      "source": [
        "# PII Redaction"
      ]
    },
    {
      "cell_type": "code",
      "execution_count": 10,
      "id": "7d0f945f-8412-4825-91a1-6927e292dbd7",
      "metadata": {
        "gather": {
          "logged": 1724165898942
        },
        "jupyter": {
          "outputs_hidden": false,
          "source_hidden": false
        },
        "nteract": {
          "transient": {
            "deleting": false
          }
        }
      },
      "outputs": [],
      "source": [
        "content= f\"\"\"You are a helpful assistant that answers the given question. You must present both response and original question in your output after redacting any PII data such as name, address, date of birth, medical records, and financial records.\n",
        " \n",
        "Format the output in JSON by using \"Original Question\" and \"Response\" as a key. The original question should be the user input verbatim.\"\"\""
      ]
    },
    {
      "cell_type": "code",
      "execution_count": null,
      "id": "40ca2132-a3a7-4e7a-9253-c0caa50ba76b",
      "metadata": {
        "gather": {
          "logged": 1724165904890
        },
        "jupyter": {
          "outputs_hidden": false,
          "source_hidden": false
        },
        "nteract": {
          "transient": {
            "deleting": false
          }
        }
      },
      "outputs": [],
      "source": [
        "\n",
        "response = client.chat.completions.create(\n",
        "    model=\"gpt-4o\", # model = \"deployment_name\".\n",
        "    messages=[\n",
        "        {\"role\": \"system\", \"content\": content},\n",
        "        {\"role\": \"user\", \"content\": \"Hi, I am Naveed, based in London. Can you write a poem for me?\"}\n",
        "    ]\n",
        ")\n",
        "\n",
        "print(response.choices[0].message.content)"
      ]
    },
    {
      "cell_type": "markdown",
      "id": "ccbd11bd-7f8e-4c6a-9fd0-708b645d249d",
      "metadata": {
        "nteract": {
          "transient": {
            "deleting": false
          }
        }
      },
      "source": [
        "###   Reproducable Outputs with Seed Parameter**"
      ]
    },
    {
      "cell_type": "code",
      "execution_count": null,
      "id": "c9b5d45d-0de2-44f8-a903-ced5b0173a02",
      "metadata": {
        "gather": {
          "logged": 1724165934876
        },
        "jupyter": {
          "outputs_hidden": false,
          "source_hidden": false
        },
        "nteract": {
          "transient": {
            "deleting": false
          }
        }
      },
      "outputs": [],
      "source": [
        "for i in range(3):\n",
        "  print(f'Story Version {i + 1}\\n---')\n",
        "    \n",
        "  response = client.chat.completions.create(\n",
        "    model=\"gpt-4o\", # Model = should match the deployment name you chose for your 1106-preview model deployment\n",
        "    seed=42,\n",
        "    temperature=0.5,\n",
        "    max_tokens =50, \n",
        "    messages=[\n",
        "      {\"role\": \"system\", \"content\": \"You are a helpful assistant.\"},\n",
        "      {\"role\": \"user\", \"content\": \"Tell me a story about how the universe began?\"}\n",
        "    ]\n",
        "  )\n",
        "  \n",
        "  print(response.choices[0].message.content)\n",
        "  print(\"---\\n\")\n"
      ]
    }
  ],
  "metadata": {
    "kernel_info": {
      "name": "python310-sdkv2"
    },
    "kernelspec": {
      "display_name": "base",
      "language": "python",
      "name": "python3"
    },
    "language_info": {
      "codemirror_mode": {
        "name": "ipython",
        "version": 3
      },
      "file_extension": ".py",
      "mimetype": "text/x-python",
      "name": "python",
      "nbconvert_exporter": "python",
      "pygments_lexer": "ipython3",
      "version": "3.10.10"
    },
    "microsoft": {
      "host": {
        "AzureML": {
          "notebookHasBeenCompleted": true
        }
      },
      "ms_spell_check": {
        "ms_spell_check_language": "en"
      }
    },
    "nteract": {
      "version": "nteract-front-end@1.0.0"
    }
  },
  "nbformat": 4,
  "nbformat_minor": 5
}
