{
  "cells": [
    {
      "cell_type": "markdown",
      "metadata": {
        "nteract": {
          "transient": {
            "deleting": false
          }
        }
      },
      "source": [
        "**Steps:**\n",
        "1) Create Managed Identity\n",
        "\n",
        "2) Assign Role to this managed identity that you want to reach : Azure OpenAI\n",
        "\n",
        "3) Assign this managed identity to the compute instance"
      ]
    },
    {
      "cell_type": "code",
      "execution_count": null,
      "metadata": {
        "gather": {
          "logged": 1700406830706
        },
        "jupyter": {
          "outputs_hidden": false,
          "source_hidden": false
        },
        "nteract": {
          "transient": {
            "deleting": false
          }
        }
      },
      "outputs": [],
      "source": [
        "#pip install openai --upgrade \n",
        "# if you are using 0.28 and want to upgrade openai 1 version\n",
        "\n",
        "#pip install openai==0.28.1\n",
        "#if you want to keep using this version"
      ]
    },
    {
      "cell_type": "code",
      "execution_count": null,
      "metadata": {},
      "outputs": [],
      "source": [
        "import os\n",
        "from azure.identity import ManagedIdentityCredential\n",
        "from openai import AzureOpenAI\n",
        "from dotenv import load_dotenv\n",
        "\n",
        "# Load environment variables if needed (for endpoint)\n",
        "load_dotenv(\"credentials.env\")\n",
        "\n",
        "# Get managed identity credential (if you have user-assigned, specify client_id)\n",
        "credential = ManagedIdentityCredential(client_id=os.getenv(\"MANAGED_IDENTITY_CLIENT_ID\"))\n",
        "\n",
        "# Acquire token for Azure Cognitive Services scope\n",
        "token = credential.get_token(\"https://cognitiveservices.azure.com/.default\")\n",
        "\n",
        "# Azure OpenAI endpoint from env (e.g. https://your-resource-name.openai.azure.com)\n",
        "azure_endpoint = os.getenv(\"AZURE_OPENAI_ENDPOINT\")\n",
        "\n",
        "# Instantiate AzureOpenAI client with the bearer token\n",
        "client = AzureOpenAI(\n",
        "    azure_endpoint=azure_endpoint,\n",
        "    api_key=token.token,\n",
        "    api_version=\"2025-01-01-preview\"\n",
        ")\n",
        "\n",
        "deployment_name = \"gpt-4o\"  # replace with your deployment name\n",
        "\n",
        "messages = [\n",
        "    {\"role\": \"system\", \"content\": \"You are a helpful assistant.\"},\n",
        "    {\"role\": \"user\", \"content\": \"Explain the benefits of using Azure OpenAI services.\"}\n",
        "]\n",
        "\n",
        "response = client.chat.completions.create(\n",
        "    model=deployment_name,\n",
        "    messages=messages,\n",
        "    temperature=0.7,\n",
        "    max_tokens=150\n",
        ")\n",
        "\n",
        "print(response.choices[0].message.content.strip())\n"
      ]
    },
    {
      "cell_type": "markdown",
      "metadata": {},
      "source": [
        "- Change the client to managed identity as below:"
      ]
    },
    {
      "cell_type": "code",
      "execution_count": null,
      "metadata": {},
      "outputs": [],
      "source": [
        "# client = AzureOpenAI(\n",
        "#     api_key=token.token,\n",
        "#     api_version=\"2023-05-15\",\n",
        "#     azure_endpoint=azure_endpoint\n",
        "# )"
      ]
    },
    {
      "cell_type": "code",
      "execution_count": 4,
      "metadata": {},
      "outputs": [
        {
          "name": "stdout",
          "output_type": "stream",
          "text": [
            "Sending a test chat completion job\n",
            "\"Chill Treats, Sweet Moments!\" 🍦\n"
          ]
        }
      ],
      "source": [
        "import os\n",
        "from openai import AzureOpenAI\n",
        "\n",
        "# Assuming you already have token.token and Resource_endpoint defined elsewhere\n",
        "\n",
        "client = AzureOpenAI(\n",
        "    api_key=os.getenv(\"AZURE_OPENAI_API_KEY\"),  \n",
        "    api_version=\"2025-01-01-preview\", #latest GA API version: https://learn.microsoft.com/en-us/azure/ai-services/openai/api-version-deprecation\n",
        "    azure_endpoint = os.getenv(\"AZURE_OPENAI_ENDPOINT\")\n",
        "    )\n",
        "\n",
        "deployment_name = 'gpt-4o'  # Your deployment name for the chat model\n",
        "\n",
        "print('Sending a test chat completion job')\n",
        "\n",
        "# Chat models require messages instead of prompt\n",
        "messages = [\n",
        "    {\"role\": \"user\", \"content\": \"Write a tagline for an ice cream shop.\"}\n",
        "]\n",
        "\n",
        "response = client.chat.completions.create(\n",
        "    model=deployment_name,\n",
        "    messages=messages,\n",
        "    max_tokens=100\n",
        ")\n",
        "\n",
        "print(response.choices[0].message.content.strip())\n"
      ]
    }
  ],
  "metadata": {
    "kernel_info": {
      "name": "python310-sdkv2"
    },
    "kernelspec": {
      "display_name": "base",
      "language": "python",
      "name": "python3"
    },
    "language_info": {
      "codemirror_mode": {
        "name": "ipython",
        "version": 3
      },
      "file_extension": ".py",
      "mimetype": "text/x-python",
      "name": "python",
      "nbconvert_exporter": "python",
      "pygments_lexer": "ipython3",
      "version": "3.10.10"
    },
    "microsoft": {
      "host": {
        "AzureML": {
          "notebookHasBeenCompleted": true
        }
      },
      "ms_spell_check": {
        "ms_spell_check_language": "en"
      }
    },
    "nteract": {
      "version": "nteract-front-end@1.0.0"
    }
  },
  "nbformat": 4,
  "nbformat_minor": 2
}
